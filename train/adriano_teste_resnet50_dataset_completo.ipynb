{
 "cells": [
  {
   "cell_type": "code",
   "execution_count": 11,
   "metadata": {
    "scrolled": true
   },
   "outputs": [
    {
     "name": "stdout",
     "output_type": "stream",
     "text": [
      "Requirement already satisfied: pip in /usr/local/lib/python3.6/dist-packages (21.3.1)\n",
      "\u001b[33mWARNING: Running pip as the 'root' user can result in broken permissions and conflicting behaviour with the system package manager. It is recommended to use a virtual environment instead: https://pip.pypa.io/warnings/venv\u001b[0m\n"
     ]
    }
   ],
   "source": [
    "!pip install --upgrade pip"
   ]
  },
  {
   "cell_type": "code",
   "execution_count": 12,
   "metadata": {},
   "outputs": [
    {
     "name": "stdout",
     "output_type": "stream",
     "text": [
      "Requirement already satisfied: torch in /usr/local/lib/python3.6/dist-packages (1.10.1)\n",
      "Requirement already satisfied: dataclasses in /usr/local/lib/python3.6/dist-packages (from torch) (0.8)\n",
      "Requirement already satisfied: typing-extensions in /usr/local/lib/python3.6/dist-packages (from torch) (3.7.4.3)\n",
      "\u001b[33mWARNING: Running pip as the 'root' user can result in broken permissions and conflicting behaviour with the system package manager. It is recommended to use a virtual environment instead: https://pip.pypa.io/warnings/venv\u001b[0m\n"
     ]
    }
   ],
   "source": [
    "!pip install torch"
   ]
  },
  {
   "cell_type": "code",
   "execution_count": null,
   "metadata": {},
   "outputs": [],
   "source": []
  },
  {
   "cell_type": "code",
   "execution_count": 13,
   "metadata": {
    "scrolled": true
   },
   "outputs": [
    {
     "name": "stdout",
     "output_type": "stream",
     "text": [
      "Requirement already satisfied: tqdm in /usr/local/lib/python3.6/dist-packages (4.64.1)\n",
      "Requirement already satisfied: importlib-resources in /usr/local/lib/python3.6/dist-packages (from tqdm) (5.4.0)\n",
      "Requirement already satisfied: zipp>=3.1.0 in /usr/local/lib/python3.6/dist-packages (from importlib-resources->tqdm) (3.4.0)\n",
      "\u001b[33mWARNING: Running pip as the 'root' user can result in broken permissions and conflicting behaviour with the system package manager. It is recommended to use a virtual environment instead: https://pip.pypa.io/warnings/venv\u001b[0m\n"
     ]
    }
   ],
   "source": [
    "!pip install tqdm"
   ]
  },
  {
   "cell_type": "code",
   "execution_count": 14,
   "metadata": {},
   "outputs": [
    {
     "name": "stdout",
     "output_type": "stream",
     "text": [
      "Requirement already satisfied: torchvision in /usr/local/lib/python3.6/dist-packages (0.11.2)\n",
      "Requirement already satisfied: pillow!=8.3.0,>=5.3.0 in /usr/local/lib/python3.6/dist-packages (from torchvision) (8.1.0)\n",
      "Requirement already satisfied: numpy in /usr/local/lib/python3.6/dist-packages (from torchvision) (1.19.5)\n",
      "Requirement already satisfied: torch==1.10.1 in /usr/local/lib/python3.6/dist-packages (from torchvision) (1.10.1)\n",
      "Requirement already satisfied: typing-extensions in /usr/local/lib/python3.6/dist-packages (from torch==1.10.1->torchvision) (3.7.4.3)\n",
      "Requirement already satisfied: dataclasses in /usr/local/lib/python3.6/dist-packages (from torch==1.10.1->torchvision) (0.8)\n",
      "\u001b[33mWARNING: Running pip as the 'root' user can result in broken permissions and conflicting behaviour with the system package manager. It is recommended to use a virtual environment instead: https://pip.pypa.io/warnings/venv\u001b[0m\n"
     ]
    }
   ],
   "source": [
    "!pip install torchvision"
   ]
  },
  {
   "cell_type": "code",
   "execution_count": 15,
   "metadata": {},
   "outputs": [
    {
     "name": "stdout",
     "output_type": "stream",
     "text": [
      "Looking in links: https://download.pytorch.org/whl/torch_stable.html\n",
      "\u001b[31mERROR: Could not find a version that satisfies the requirement torchvision==0.15.2 (from versions: 0.1.6, 0.1.7, 0.1.8, 0.1.9, 0.2.0, 0.2.1, 0.2.2, 0.2.2.post2, 0.2.2.post3, 0.3.0, 0.4.0, 0.4.0+cpu, 0.4.0+cu92, 0.4.1, 0.4.1+cpu, 0.4.1+cu100, 0.4.1+cu92, 0.4.2, 0.4.2+cpu, 0.4.2+cu100, 0.4.2+cu92, 0.5.0, 0.5.0+cpu, 0.5.0+cu100, 0.5.0+cu92, 0.6.0, 0.6.0+cpu, 0.6.0+cu101, 0.6.0+cu92, 0.6.1, 0.6.1+cpu, 0.6.1+cu101, 0.6.1+cu92, 0.7.0, 0.7.0+cpu, 0.7.0+cu101, 0.7.0+cu92, 0.8.0, 0.8.1, 0.8.1+cpu, 0.8.1+cu101, 0.8.1+cu110, 0.8.1+cu92, 0.8.2, 0.8.2+cpu, 0.8.2+cu101, 0.8.2+cu110, 0.8.2+cu92, 0.9.0, 0.9.0+cpu, 0.9.0+cu101, 0.9.0+cu111, 0.9.1, 0.9.1+cpu, 0.9.1+cu101, 0.9.1+cu102, 0.9.1+cu111, 0.10.0, 0.10.0+cpu, 0.10.0+cu102, 0.10.0+cu111, 0.10.0+rocm4.1, 0.10.0+rocm4.2, 0.10.1, 0.10.1+cpu, 0.10.1+cu102, 0.10.1+cu111, 0.10.1+rocm4.1, 0.10.1+rocm4.2, 0.11.0, 0.11.0+cpu, 0.11.0+cu102, 0.11.0+cu111, 0.11.0+cu113, 0.11.0+rocm4.1, 0.11.0+rocm4.2, 0.11.1, 0.11.1+cpu, 0.11.1+cu102, 0.11.1+cu111, 0.11.1+cu113, 0.11.1+rocm4.1, 0.11.1+rocm4.2, 0.11.2, 0.11.2+cpu, 0.11.2+cu102, 0.11.2+cu111, 0.11.2+cu113, 0.11.2+rocm4.1, 0.11.2+rocm4.2, 0.11.3+cpu, 0.11.3+cu102, 0.11.3+cu111, 0.11.3+cu113, 0.11.3+rocm4.1, 0.11.3+rocm4.2)\u001b[0m\n",
      "\u001b[31mERROR: No matching distribution found for torchvision==0.15.2\u001b[0m\n"
     ]
    }
   ],
   "source": [
    "!pip install torchvision==0.15.2 torch==1.13.1+cu113 -f https://download.pytorch.org/whl/torch_stable.html\n",
    "\n",
    "\n"
   ]
  },
  {
   "cell_type": "code",
   "execution_count": 16,
   "metadata": {},
   "outputs": [
    {
     "name": "stdout",
     "output_type": "stream",
     "text": [
      "0.11.2+cu102\n"
     ]
    }
   ],
   "source": [
    "import torchvision; \n",
    "print(torchvision.__version__)\n",
    "\n",
    "# from torchvision.models import convnext_tiny, ConvNeXt_Tiny_Weights\n",
    "\n"
   ]
  },
  {
   "cell_type": "code",
   "execution_count": 17,
   "metadata": {},
   "outputs": [
    {
     "name": "stdout",
     "output_type": "stream",
     "text": [
      "Requirement already satisfied: matplotlib in /usr/local/lib/python3.6/dist-packages (3.3.3)\n",
      "Requirement already satisfied: cycler>=0.10 in /usr/local/lib/python3.6/dist-packages (from matplotlib) (0.10.0)\n",
      "Requirement already satisfied: python-dateutil>=2.1 in /usr/local/lib/python3.6/dist-packages (from matplotlib) (2.8.1)\n",
      "Requirement already satisfied: numpy>=1.15 in /usr/local/lib/python3.6/dist-packages (from matplotlib) (1.19.5)\n",
      "Requirement already satisfied: kiwisolver>=1.0.1 in /usr/local/lib/python3.6/dist-packages (from matplotlib) (1.3.1)\n",
      "Requirement already satisfied: pillow>=6.2.0 in /usr/local/lib/python3.6/dist-packages (from matplotlib) (8.1.0)\n",
      "Requirement already satisfied: pyparsing!=2.0.4,!=2.1.2,!=2.1.6,>=2.0.3 in /usr/local/lib/python3.6/dist-packages (from matplotlib) (2.4.7)\n",
      "Requirement already satisfied: six in /usr/local/lib/python3.6/dist-packages (from cycler>=0.10->matplotlib) (1.15.0)\n",
      "\u001b[33mWARNING: Running pip as the 'root' user can result in broken permissions and conflicting behaviour with the system package manager. It is recommended to use a virtual environment instead: https://pip.pypa.io/warnings/venv\u001b[0m\n"
     ]
    }
   ],
   "source": [
    "!pip install matplotlib"
   ]
  },
  {
   "cell_type": "code",
   "execution_count": 18,
   "metadata": {},
   "outputs": [
    {
     "name": "stdout",
     "output_type": "stream",
     "text": [
      "Requirement already satisfied: opencv-python in /usr/local/lib/python3.6/dist-packages (4.11.0.86)\n",
      "Requirement already satisfied: numpy>=1.13.3 in /usr/local/lib/python3.6/dist-packages (from opencv-python) (1.19.5)\n",
      "\u001b[33mWARNING: Running pip as the 'root' user can result in broken permissions and conflicting behaviour with the system package manager. It is recommended to use a virtual environment instead: https://pip.pypa.io/warnings/venv\u001b[0m\n"
     ]
    }
   ],
   "source": [
    "!pip install opencv-python"
   ]
  },
  {
   "cell_type": "code",
   "execution_count": 19,
   "metadata": {},
   "outputs": [
    {
     "name": "stdout",
     "output_type": "stream",
     "text": [
      "Requirement already satisfied: scikit-learn in /usr/local/lib/python3.6/dist-packages (0.24.2)\n",
      "Requirement already satisfied: joblib>=0.11 in /usr/local/lib/python3.6/dist-packages (from scikit-learn) (1.1.1)\n",
      "Requirement already satisfied: threadpoolctl>=2.0.0 in /usr/local/lib/python3.6/dist-packages (from scikit-learn) (3.1.0)\n",
      "Requirement already satisfied: scipy>=0.19.1 in /usr/local/lib/python3.6/dist-packages (from scikit-learn) (1.5.4)\n",
      "Requirement already satisfied: numpy>=1.13.3 in /usr/local/lib/python3.6/dist-packages (from scikit-learn) (1.19.5)\n",
      "\u001b[33mWARNING: Running pip as the 'root' user can result in broken permissions and conflicting behaviour with the system package manager. It is recommended to use a virtual environment instead: https://pip.pypa.io/warnings/venv\u001b[0m\n"
     ]
    }
   ],
   "source": [
    "!pip install scikit-learn"
   ]
  },
  {
   "cell_type": "code",
   "execution_count": 34,
   "metadata": {},
   "outputs": [
    {
     "name": "stdout",
     "output_type": "stream",
     "text": [
      "Classes detectadas: ['Face2Face', 'FaceShifter', 'FaceSwap', 'NeuralTextures', 'REAL']\n",
      "Agrupando frames em sequências...\n",
      "Total de grupos: 5\n",
      "face_extraction/Face2Face: 250 frames\n",
      "face_extraction/FaceShifter: 250 frames\n",
      "face_extraction/FaceSwap: 250 frames\n",
      "face_extraction/NeuralTextures: 250 frames\n",
      "face_extraction/REAL: 250 frames\n",
      "Total de sequências criadas: 125\n",
      "Tamanho de X: torch.Size([125, 10, 3, 224, 224]), y: torch.Size([125])\n",
      "----- Época 1 -----\n",
      "Treino Lote 1/13\n",
      "Treino Lote 2/13\n",
      "Treino Lote 3/13\n",
      "Treino Lote 4/13\n",
      "Treino Lote 5/13\n",
      "Treino Lote 6/13\n",
      "Treino Lote 7/13\n",
      "Treino Lote 8/13\n",
      "Treino Lote 9/13\n",
      "Treino Lote 10/13\n",
      "Treino Lote 11/13\n",
      "Treino Lote 12/13\n",
      "Treino Lote 13/13\n",
      "Validação: 25 exemplos, Acurácia: 28.00%\n",
      "----- Época 2 -----\n",
      "Treino Lote 1/13\n",
      "Treino Lote 2/13\n",
      "Treino Lote 3/13\n",
      "Treino Lote 4/13\n",
      "Treino Lote 5/13\n",
      "Treino Lote 6/13\n",
      "Treino Lote 7/13\n",
      "Treino Lote 8/13\n",
      "Treino Lote 9/13\n",
      "Treino Lote 10/13\n",
      "Treino Lote 11/13\n",
      "Treino Lote 12/13\n",
      "Treino Lote 13/13\n",
      "Validação: 25 exemplos, Acurácia: 28.00%\n",
      "----- Época 3 -----\n",
      "Treino Lote 1/13\n",
      "Treino Lote 2/13\n",
      "Treino Lote 3/13\n",
      "Treino Lote 4/13\n",
      "Treino Lote 5/13\n",
      "Treino Lote 6/13\n",
      "Treino Lote 7/13\n",
      "Treino Lote 8/13\n",
      "Treino Lote 9/13\n",
      "Treino Lote 10/13\n",
      "Treino Lote 11/13\n",
      "Treino Lote 12/13\n",
      "Treino Lote 13/13\n",
      "Validação: 25 exemplos, Acurácia: 36.00%\n",
      "----- Época 4 -----\n",
      "Treino Lote 1/13\n",
      "Treino Lote 2/13\n",
      "Treino Lote 3/13\n",
      "Treino Lote 4/13\n",
      "Treino Lote 5/13\n",
      "Treino Lote 6/13\n",
      "Treino Lote 7/13\n",
      "Treino Lote 8/13\n",
      "Treino Lote 9/13\n",
      "Treino Lote 10/13\n",
      "Treino Lote 11/13\n",
      "Treino Lote 12/13\n",
      "Treino Lote 13/13\n",
      "Validação: 25 exemplos, Acurácia: 40.00%\n",
      "----- Época 5 -----\n",
      "Treino Lote 1/13\n",
      "Treino Lote 2/13\n",
      "Treino Lote 3/13\n",
      "Treino Lote 4/13\n",
      "Treino Lote 5/13\n",
      "Treino Lote 6/13\n",
      "Treino Lote 7/13\n",
      "Treino Lote 8/13\n",
      "Treino Lote 9/13\n",
      "Treino Lote 10/13\n",
      "Treino Lote 11/13\n",
      "Treino Lote 12/13\n",
      "Treino Lote 13/13\n",
      "Validação: 25 exemplos, Acurácia: 40.00%\n",
      "----- Época 6 -----\n",
      "Treino Lote 1/13\n",
      "Treino Lote 2/13\n",
      "Treino Lote 3/13\n",
      "Treino Lote 4/13\n",
      "Treino Lote 5/13\n",
      "Treino Lote 6/13\n",
      "Treino Lote 7/13\n",
      "Treino Lote 8/13\n",
      "Treino Lote 9/13\n",
      "Treino Lote 10/13\n",
      "Treino Lote 11/13\n",
      "Treino Lote 12/13\n",
      "Treino Lote 13/13\n",
      "Validação: 25 exemplos, Acurácia: 40.00%\n",
      "----- Época 7 -----\n",
      "Treino Lote 1/13\n",
      "Treino Lote 2/13\n",
      "Treino Lote 3/13\n",
      "Treino Lote 4/13\n",
      "Treino Lote 5/13\n",
      "Treino Lote 6/13\n",
      "Treino Lote 7/13\n",
      "Treino Lote 8/13\n",
      "Treino Lote 9/13\n",
      "Treino Lote 10/13\n",
      "Treino Lote 11/13\n",
      "Treino Lote 12/13\n",
      "Treino Lote 13/13\n",
      "Validação: 25 exemplos, Acurácia: 40.00%\n",
      "----- Época 8 -----\n",
      "Treino Lote 1/13\n",
      "Treino Lote 2/13\n",
      "Treino Lote 3/13\n",
      "Treino Lote 4/13\n",
      "Treino Lote 5/13\n",
      "Treino Lote 6/13\n",
      "Treino Lote 7/13\n",
      "Treino Lote 8/13\n",
      "Treino Lote 9/13\n",
      "Treino Lote 10/13\n",
      "Treino Lote 11/13\n",
      "Treino Lote 12/13\n",
      "Treino Lote 13/13\n",
      "Validação: 25 exemplos, Acurácia: 40.00%\n",
      "----- Época 9 -----\n",
      "Treino Lote 1/13\n",
      "Treino Lote 2/13\n",
      "Treino Lote 3/13\n",
      "Treino Lote 4/13\n",
      "Treino Lote 5/13\n",
      "Treino Lote 6/13\n",
      "Treino Lote 7/13\n",
      "Treino Lote 8/13\n",
      "Treino Lote 9/13\n",
      "Treino Lote 10/13\n",
      "Treino Lote 11/13\n",
      "Treino Lote 12/13\n",
      "Treino Lote 13/13\n",
      "Validação: 25 exemplos, Acurácia: 40.00%\n",
      "----- Época 10 -----\n",
      "Treino Lote 1/13\n",
      "Treino Lote 2/13\n",
      "Treino Lote 3/13\n",
      "Treino Lote 4/13\n",
      "Treino Lote 5/13\n",
      "Treino Lote 6/13\n",
      "Treino Lote 7/13\n",
      "Treino Lote 8/13\n",
      "Treino Lote 9/13\n",
      "Treino Lote 10/13\n",
      "Treino Lote 11/13\n",
      "Treino Lote 12/13\n",
      "Treino Lote 13/13\n",
      "Validação: 25 exemplos, Acurácia: 40.00%\n",
      "----- Época 11 -----\n",
      "Treino Lote 1/13\n",
      "Treino Lote 2/13\n",
      "Treino Lote 3/13\n",
      "Treino Lote 4/13\n",
      "Treino Lote 5/13\n",
      "Treino Lote 6/13\n",
      "Treino Lote 7/13\n",
      "Treino Lote 8/13\n",
      "Treino Lote 9/13\n",
      "Treino Lote 10/13\n",
      "Treino Lote 11/13\n",
      "Treino Lote 12/13\n",
      "Treino Lote 13/13\n",
      "Validação: 25 exemplos, Acurácia: 40.00%\n",
      "----- Época 12 -----\n",
      "Treino Lote 1/13\n",
      "Treino Lote 2/13\n",
      "Treino Lote 3/13\n",
      "Treino Lote 4/13\n",
      "Treino Lote 5/13\n",
      "Treino Lote 6/13\n",
      "Treino Lote 7/13\n",
      "Treino Lote 8/13\n",
      "Treino Lote 9/13\n",
      "Treino Lote 10/13\n",
      "Treino Lote 11/13\n",
      "Treino Lote 12/13\n",
      "Treino Lote 13/13\n",
      "Validação: 25 exemplos, Acurácia: 36.00%\n",
      "----- Época 13 -----\n",
      "Treino Lote 1/13\n",
      "Treino Lote 2/13\n",
      "Treino Lote 3/13\n",
      "Treino Lote 4/13\n",
      "Treino Lote 5/13\n",
      "Treino Lote 6/13\n",
      "Treino Lote 7/13\n",
      "Treino Lote 8/13\n",
      "Treino Lote 9/13\n",
      "Treino Lote 10/13\n",
      "Treino Lote 11/13\n",
      "Treino Lote 12/13\n",
      "Treino Lote 13/13\n",
      "Validação: 25 exemplos, Acurácia: 40.00%\n",
      "----- Época 14 -----\n",
      "Treino Lote 1/13\n",
      "Treino Lote 2/13\n",
      "Treino Lote 3/13\n",
      "Treino Lote 4/13\n",
      "Treino Lote 5/13\n",
      "Treino Lote 6/13\n",
      "Treino Lote 7/13\n",
      "Treino Lote 8/13\n",
      "Treino Lote 9/13\n",
      "Treino Lote 10/13\n",
      "Treino Lote 11/13\n",
      "Treino Lote 12/13\n",
      "Treino Lote 13/13\n",
      "Validação: 25 exemplos, Acurácia: 36.00%\n",
      "----- Época 15 -----\n",
      "Treino Lote 1/13\n",
      "Treino Lote 2/13\n",
      "Treino Lote 3/13\n",
      "Treino Lote 4/13\n",
      "Treino Lote 5/13\n",
      "Treino Lote 6/13\n",
      "Treino Lote 7/13\n",
      "Treino Lote 8/13\n",
      "Treino Lote 9/13\n",
      "Treino Lote 10/13\n",
      "Treino Lote 11/13\n",
      "Treino Lote 12/13\n",
      "Treino Lote 13/13\n",
      "Validação: 25 exemplos, Acurácia: 40.00%\n",
      "----- Época 16 -----\n",
      "Treino Lote 1/13\n",
      "Treino Lote 2/13\n",
      "Treino Lote 3/13\n",
      "Treino Lote 4/13\n",
      "Treino Lote 5/13\n",
      "Treino Lote 6/13\n",
      "Treino Lote 7/13\n",
      "Treino Lote 8/13\n",
      "Treino Lote 9/13\n",
      "Treino Lote 10/13\n",
      "Treino Lote 11/13\n",
      "Treino Lote 12/13\n",
      "Treino Lote 13/13\n",
      "Validação: 25 exemplos, Acurácia: 40.00%\n",
      "----- Época 17 -----\n",
      "Treino Lote 1/13\n",
      "Treino Lote 2/13\n",
      "Treino Lote 3/13\n",
      "Treino Lote 4/13\n",
      "Treino Lote 5/13\n",
      "Treino Lote 6/13\n",
      "Treino Lote 7/13\n",
      "Treino Lote 8/13\n",
      "Treino Lote 9/13\n",
      "Treino Lote 10/13\n",
      "Treino Lote 11/13\n",
      "Treino Lote 12/13\n",
      "Treino Lote 13/13\n",
      "Validação: 25 exemplos, Acurácia: 36.00%\n",
      "----- Época 18 -----\n",
      "Treino Lote 1/13\n",
      "Treino Lote 2/13\n",
      "Treino Lote 3/13\n",
      "Treino Lote 4/13\n",
      "Treino Lote 5/13\n",
      "Treino Lote 6/13\n",
      "Treino Lote 7/13\n",
      "Treino Lote 8/13\n",
      "Treino Lote 9/13\n",
      "Treino Lote 10/13\n",
      "Treino Lote 11/13\n",
      "Treino Lote 12/13\n",
      "Treino Lote 13/13\n",
      "Validação: 25 exemplos, Acurácia: 36.00%\n",
      "----- Época 19 -----\n",
      "Treino Lote 1/13\n",
      "Treino Lote 2/13\n",
      "Treino Lote 3/13\n",
      "Treino Lote 4/13\n",
      "Treino Lote 5/13\n",
      "Treino Lote 6/13\n",
      "Treino Lote 7/13\n",
      "Treino Lote 8/13\n",
      "Treino Lote 9/13\n",
      "Treino Lote 10/13\n",
      "Treino Lote 11/13\n",
      "Treino Lote 12/13\n",
      "Treino Lote 13/13\n",
      "Validação: 25 exemplos, Acurácia: 36.00%\n",
      "----- Época 20 -----\n",
      "Treino Lote 1/13\n",
      "Treino Lote 2/13\n",
      "Treino Lote 3/13\n",
      "Treino Lote 4/13\n",
      "Treino Lote 5/13\n",
      "Treino Lote 6/13\n",
      "Treino Lote 7/13\n",
      "Treino Lote 8/13\n",
      "Treino Lote 9/13\n",
      "Treino Lote 10/13\n",
      "Treino Lote 11/13\n",
      "Treino Lote 12/13\n",
      "Treino Lote 13/13\n",
      "Validação: 25 exemplos, Acurácia: 40.00%\n",
      "----- Época 21 -----\n",
      "Treino Lote 1/13\n",
      "Treino Lote 2/13\n",
      "Treino Lote 3/13\n",
      "Treino Lote 4/13\n",
      "Treino Lote 5/13\n",
      "Treino Lote 6/13\n",
      "Treino Lote 7/13\n",
      "Treino Lote 8/13\n",
      "Treino Lote 9/13\n",
      "Treino Lote 10/13\n",
      "Treino Lote 11/13\n",
      "Treino Lote 12/13\n",
      "Treino Lote 13/13\n",
      "Validação: 25 exemplos, Acurácia: 40.00%\n",
      "----- Época 22 -----\n",
      "Treino Lote 1/13\n",
      "Treino Lote 2/13\n",
      "Treino Lote 3/13\n",
      "Treino Lote 4/13\n",
      "Treino Lote 5/13\n",
      "Treino Lote 6/13\n",
      "Treino Lote 7/13\n",
      "Treino Lote 8/13\n",
      "Treino Lote 9/13\n",
      "Treino Lote 10/13\n",
      "Treino Lote 11/13\n",
      "Treino Lote 12/13\n",
      "Treino Lote 13/13\n",
      "Validação: 25 exemplos, Acurácia: 40.00%\n",
      "----- Época 23 -----\n",
      "Treino Lote 1/13\n",
      "Treino Lote 2/13\n",
      "Treino Lote 3/13\n",
      "Treino Lote 4/13\n",
      "Treino Lote 5/13\n",
      "Treino Lote 6/13\n",
      "Treino Lote 7/13\n",
      "Treino Lote 8/13\n",
      "Treino Lote 9/13\n",
      "Treino Lote 10/13\n",
      "Treino Lote 11/13\n",
      "Treino Lote 12/13\n",
      "Treino Lote 13/13\n",
      "Validação: 25 exemplos, Acurácia: 40.00%\n",
      "----- Época 24 -----\n",
      "Treino Lote 1/13\n",
      "Treino Lote 2/13\n",
      "Treino Lote 3/13\n",
      "Treino Lote 4/13\n",
      "Treino Lote 5/13\n",
      "Treino Lote 6/13\n",
      "Treino Lote 7/13\n",
      "Treino Lote 8/13\n",
      "Treino Lote 9/13\n",
      "Treino Lote 10/13\n",
      "Treino Lote 11/13\n",
      "Treino Lote 12/13\n",
      "Treino Lote 13/13\n",
      "Validação: 25 exemplos, Acurácia: 44.00%\n",
      "----- Época 25 -----\n",
      "Treino Lote 1/13\n",
      "Treino Lote 2/13\n",
      "Treino Lote 3/13\n",
      "Treino Lote 4/13\n",
      "Treino Lote 5/13\n",
      "Treino Lote 6/13\n",
      "Treino Lote 7/13\n",
      "Treino Lote 8/13\n",
      "Treino Lote 9/13\n",
      "Treino Lote 10/13\n",
      "Treino Lote 11/13\n",
      "Treino Lote 12/13\n",
      "Treino Lote 13/13\n",
      "Validação: 25 exemplos, Acurácia: 40.00%\n",
      "----- Época 26 -----\n",
      "Treino Lote 1/13\n",
      "Treino Lote 2/13\n",
      "Treino Lote 3/13\n",
      "Treino Lote 4/13\n",
      "Treino Lote 5/13\n",
      "Treino Lote 6/13\n",
      "Treino Lote 7/13\n",
      "Treino Lote 8/13\n",
      "Treino Lote 9/13\n",
      "Treino Lote 10/13\n",
      "Treino Lote 11/13\n",
      "Treino Lote 12/13\n",
      "Treino Lote 13/13\n",
      "Validação: 25 exemplos, Acurácia: 36.00%\n",
      "----- Época 27 -----\n",
      "Treino Lote 1/13\n",
      "Treino Lote 2/13\n",
      "Treino Lote 3/13\n",
      "Treino Lote 4/13\n",
      "Treino Lote 5/13\n",
      "Treino Lote 6/13\n",
      "Treino Lote 7/13\n",
      "Treino Lote 8/13\n",
      "Treino Lote 9/13\n",
      "Treino Lote 10/13\n",
      "Treino Lote 11/13\n",
      "Treino Lote 12/13\n",
      "Treino Lote 13/13\n",
      "Validação: 25 exemplos, Acurácia: 32.00%\n",
      "----- Época 28 -----\n",
      "Treino Lote 1/13\n"
     ]
    },
    {
     "name": "stdout",
     "output_type": "stream",
     "text": [
      "Treino Lote 2/13\n",
      "Treino Lote 3/13\n",
      "Treino Lote 4/13\n",
      "Treino Lote 5/13\n",
      "Treino Lote 6/13\n",
      "Treino Lote 7/13\n",
      "Treino Lote 8/13\n",
      "Treino Lote 9/13\n",
      "Treino Lote 10/13\n",
      "Treino Lote 11/13\n",
      "Treino Lote 12/13\n",
      "Treino Lote 13/13\n",
      "Validação: 25 exemplos, Acurácia: 32.00%\n",
      "----- Época 29 -----\n",
      "Treino Lote 1/13\n",
      "Treino Lote 2/13\n",
      "Treino Lote 3/13\n",
      "Treino Lote 4/13\n",
      "Treino Lote 5/13\n",
      "Treino Lote 6/13\n",
      "Treino Lote 7/13\n",
      "Treino Lote 8/13\n",
      "Treino Lote 9/13\n",
      "Treino Lote 10/13\n",
      "Treino Lote 11/13\n",
      "Treino Lote 12/13\n",
      "Treino Lote 13/13\n",
      "Validação: 25 exemplos, Acurácia: 32.00%\n",
      "----- Época 30 -----\n",
      "Treino Lote 1/13\n",
      "Treino Lote 2/13\n",
      "Treino Lote 3/13\n",
      "Treino Lote 4/13\n",
      "Treino Lote 5/13\n",
      "Treino Lote 6/13\n",
      "Treino Lote 7/13\n",
      "Treino Lote 8/13\n",
      "Treino Lote 9/13\n",
      "Treino Lote 10/13\n",
      "Treino Lote 11/13\n",
      "Treino Lote 12/13\n",
      "Treino Lote 13/13\n",
      "Validação: 25 exemplos, Acurácia: 28.00%\n",
      "----- Época 31 -----\n",
      "Treino Lote 1/13\n",
      "Treino Lote 2/13\n",
      "Treino Lote 3/13\n",
      "Treino Lote 4/13\n",
      "Treino Lote 5/13\n",
      "Treino Lote 6/13\n",
      "Treino Lote 7/13\n",
      "Treino Lote 8/13\n",
      "Treino Lote 9/13\n",
      "Treino Lote 10/13\n",
      "Treino Lote 11/13\n",
      "Treino Lote 12/13\n",
      "Treino Lote 13/13\n",
      "Validação: 25 exemplos, Acurácia: 32.00%\n",
      "----- Época 32 -----\n",
      "Treino Lote 1/13\n",
      "Treino Lote 2/13\n",
      "Treino Lote 3/13\n",
      "Treino Lote 4/13\n",
      "Treino Lote 5/13\n",
      "Treino Lote 6/13\n",
      "Treino Lote 7/13\n",
      "Treino Lote 8/13\n",
      "Treino Lote 9/13\n",
      "Treino Lote 10/13\n",
      "Treino Lote 11/13\n",
      "Treino Lote 12/13\n",
      "Treino Lote 13/13\n",
      "Validação: 25 exemplos, Acurácia: 28.00%\n",
      "----- Época 33 -----\n",
      "Treino Lote 1/13\n",
      "Treino Lote 2/13\n",
      "Treino Lote 3/13\n",
      "Treino Lote 4/13\n",
      "Treino Lote 5/13\n",
      "Treino Lote 6/13\n",
      "Treino Lote 7/13\n",
      "Treino Lote 8/13\n",
      "Treino Lote 9/13\n",
      "Treino Lote 10/13\n",
      "Treino Lote 11/13\n",
      "Treino Lote 12/13\n",
      "Treino Lote 13/13\n",
      "Validação: 25 exemplos, Acurácia: 32.00%\n",
      "----- Época 34 -----\n",
      "Treino Lote 1/13\n",
      "Treino Lote 2/13\n",
      "Treino Lote 3/13\n",
      "Treino Lote 4/13\n",
      "Treino Lote 5/13\n",
      "Treino Lote 6/13\n",
      "Treino Lote 7/13\n",
      "Treino Lote 8/13\n",
      "Treino Lote 9/13\n",
      "Treino Lote 10/13\n",
      "Treino Lote 11/13\n",
      "Treino Lote 12/13\n",
      "Treino Lote 13/13\n",
      "Validação: 25 exemplos, Acurácia: 28.00%\n",
      "----- Época 35 -----\n",
      "Treino Lote 1/13\n",
      "Treino Lote 2/13\n",
      "Treino Lote 3/13\n",
      "Treino Lote 4/13\n",
      "Treino Lote 5/13\n",
      "Treino Lote 6/13\n",
      "Treino Lote 7/13\n",
      "Treino Lote 8/13\n",
      "Treino Lote 9/13\n",
      "Treino Lote 10/13\n",
      "Treino Lote 11/13\n",
      "Treino Lote 12/13\n",
      "Treino Lote 13/13\n",
      "Validação: 25 exemplos, Acurácia: 28.00%\n",
      "----- Época 36 -----\n",
      "Treino Lote 1/13\n",
      "Treino Lote 2/13\n",
      "Treino Lote 3/13\n",
      "Treino Lote 4/13\n",
      "Treino Lote 5/13\n",
      "Treino Lote 6/13\n",
      "Treino Lote 7/13\n",
      "Treino Lote 8/13\n",
      "Treino Lote 9/13\n",
      "Treino Lote 10/13\n",
      "Treino Lote 11/13\n",
      "Treino Lote 12/13\n",
      "Treino Lote 13/13\n",
      "Validação: 25 exemplos, Acurácia: 24.00%\n",
      "----- Época 37 -----\n",
      "Treino Lote 1/13\n",
      "Treino Lote 2/13\n",
      "Treino Lote 3/13\n",
      "Treino Lote 4/13\n",
      "Treino Lote 5/13\n",
      "Treino Lote 6/13\n",
      "Treino Lote 7/13\n",
      "Treino Lote 8/13\n",
      "Treino Lote 9/13\n",
      "Treino Lote 10/13\n",
      "Treino Lote 11/13\n",
      "Treino Lote 12/13\n",
      "Treino Lote 13/13\n",
      "Validação: 25 exemplos, Acurácia: 24.00%\n",
      "----- Época 38 -----\n",
      "Treino Lote 1/13\n",
      "Treino Lote 2/13\n",
      "Treino Lote 3/13\n",
      "Treino Lote 4/13\n",
      "Treino Lote 5/13\n",
      "Treino Lote 6/13\n",
      "Treino Lote 7/13\n",
      "Treino Lote 8/13\n",
      "Treino Lote 9/13\n",
      "Treino Lote 10/13\n",
      "Treino Lote 11/13\n",
      "Treino Lote 12/13\n",
      "Treino Lote 13/13\n",
      "Validação: 25 exemplos, Acurácia: 24.00%\n",
      "----- Época 39 -----\n",
      "Treino Lote 1/13\n",
      "Treino Lote 2/13\n",
      "Treino Lote 3/13\n",
      "Treino Lote 4/13\n",
      "Treino Lote 5/13\n",
      "Treino Lote 6/13\n",
      "Treino Lote 7/13\n",
      "Treino Lote 8/13\n",
      "Treino Lote 9/13\n",
      "Treino Lote 10/13\n",
      "Treino Lote 11/13\n",
      "Treino Lote 12/13\n",
      "Treino Lote 13/13\n",
      "Validação: 25 exemplos, Acurácia: 24.00%\n",
      "----- Época 40 -----\n",
      "Treino Lote 1/13\n",
      "Treino Lote 2/13\n",
      "Treino Lote 3/13\n",
      "Treino Lote 4/13\n",
      "Treino Lote 5/13\n",
      "Treino Lote 6/13\n",
      "Treino Lote 7/13\n",
      "Treino Lote 8/13\n",
      "Treino Lote 9/13\n",
      "Treino Lote 10/13\n",
      "Treino Lote 11/13\n",
      "Treino Lote 12/13\n",
      "Treino Lote 13/13\n",
      "Validação: 25 exemplos, Acurácia: 28.00%\n",
      "----- Época 41 -----\n",
      "Treino Lote 1/13\n",
      "Treino Lote 2/13\n",
      "Treino Lote 3/13\n",
      "Treino Lote 4/13\n",
      "Treino Lote 5/13\n",
      "Treino Lote 6/13\n",
      "Treino Lote 7/13\n",
      "Treino Lote 8/13\n",
      "Treino Lote 9/13\n",
      "Treino Lote 10/13\n",
      "Treino Lote 11/13\n",
      "Treino Lote 12/13\n",
      "Treino Lote 13/13\n",
      "Validação: 25 exemplos, Acurácia: 28.00%\n",
      "----- Época 42 -----\n",
      "Treino Lote 1/13\n",
      "Treino Lote 2/13\n",
      "Treino Lote 3/13\n",
      "Treino Lote 4/13\n",
      "Treino Lote 5/13\n",
      "Treino Lote 6/13\n",
      "Treino Lote 7/13\n",
      "Treino Lote 8/13\n",
      "Treino Lote 9/13\n",
      "Treino Lote 10/13\n",
      "Treino Lote 11/13\n",
      "Treino Lote 12/13\n",
      "Treino Lote 13/13\n",
      "Validação: 25 exemplos, Acurácia: 24.00%\n",
      "----- Época 43 -----\n",
      "Treino Lote 1/13\n",
      "Treino Lote 2/13\n",
      "Treino Lote 3/13\n",
      "Treino Lote 4/13\n",
      "Treino Lote 5/13\n",
      "Treino Lote 6/13\n",
      "Treino Lote 7/13\n",
      "Treino Lote 8/13\n",
      "Treino Lote 9/13\n",
      "Treino Lote 10/13\n",
      "Treino Lote 11/13\n",
      "Treino Lote 12/13\n",
      "Treino Lote 13/13\n",
      "Validação: 25 exemplos, Acurácia: 28.00%\n",
      "----- Época 44 -----\n",
      "Treino Lote 1/13\n",
      "Treino Lote 2/13\n",
      "Treino Lote 3/13\n",
      "Treino Lote 4/13\n",
      "Treino Lote 5/13\n",
      "Treino Lote 6/13\n",
      "Treino Lote 7/13\n",
      "Treino Lote 8/13\n",
      "Treino Lote 9/13\n",
      "Treino Lote 10/13\n",
      "Treino Lote 11/13\n",
      "Treino Lote 12/13\n",
      "Treino Lote 13/13\n",
      "Validação: 25 exemplos, Acurácia: 24.00%\n",
      "----- Época 45 -----\n",
      "Treino Lote 1/13\n",
      "Treino Lote 2/13\n",
      "Treino Lote 3/13\n",
      "Treino Lote 4/13\n",
      "Treino Lote 5/13\n",
      "Treino Lote 6/13\n",
      "Treino Lote 7/13\n",
      "Treino Lote 8/13\n",
      "Treino Lote 9/13\n",
      "Treino Lote 10/13\n",
      "Treino Lote 11/13\n",
      "Treino Lote 12/13\n",
      "Treino Lote 13/13\n",
      "Validação: 25 exemplos, Acurácia: 28.00%\n",
      "----- Época 46 -----\n",
      "Treino Lote 1/13\n",
      "Treino Lote 2/13\n",
      "Treino Lote 3/13\n",
      "Treino Lote 4/13\n",
      "Treino Lote 5/13\n",
      "Treino Lote 6/13\n",
      "Treino Lote 7/13\n",
      "Treino Lote 8/13\n",
      "Treino Lote 9/13\n",
      "Treino Lote 10/13\n",
      "Treino Lote 11/13\n",
      "Treino Lote 12/13\n",
      "Treino Lote 13/13\n",
      "Validação: 25 exemplos, Acurácia: 28.00%\n",
      "----- Época 47 -----\n",
      "Treino Lote 1/13\n",
      "Treino Lote 2/13\n",
      "Treino Lote 3/13\n",
      "Treino Lote 4/13\n",
      "Treino Lote 5/13\n",
      "Treino Lote 6/13\n",
      "Treino Lote 7/13\n",
      "Treino Lote 8/13\n",
      "Treino Lote 9/13\n",
      "Treino Lote 10/13\n",
      "Treino Lote 11/13\n",
      "Treino Lote 12/13\n",
      "Treino Lote 13/13\n",
      "Validação: 25 exemplos, Acurácia: 28.00%\n",
      "----- Época 48 -----\n",
      "Treino Lote 1/13\n",
      "Treino Lote 2/13\n",
      "Treino Lote 3/13\n",
      "Treino Lote 4/13\n",
      "Treino Lote 5/13\n",
      "Treino Lote 6/13\n",
      "Treino Lote 7/13\n",
      "Treino Lote 8/13\n",
      "Treino Lote 9/13\n",
      "Treino Lote 10/13\n",
      "Treino Lote 11/13\n",
      "Treino Lote 12/13\n",
      "Treino Lote 13/13\n",
      "Validação: 25 exemplos, Acurácia: 28.00%\n",
      "----- Época 49 -----\n",
      "Treino Lote 1/13\n",
      "Treino Lote 2/13\n",
      "Treino Lote 3/13\n",
      "Treino Lote 4/13\n",
      "Treino Lote 5/13\n",
      "Treino Lote 6/13\n",
      "Treino Lote 7/13\n",
      "Treino Lote 8/13\n",
      "Treino Lote 9/13\n",
      "Treino Lote 10/13\n",
      "Treino Lote 11/13\n",
      "Treino Lote 12/13\n",
      "Treino Lote 13/13\n",
      "Validação: 25 exemplos, Acurácia: 28.00%\n",
      "----- Época 50 -----\n",
      "Treino Lote 1/13\n",
      "Treino Lote 2/13\n",
      "Treino Lote 3/13\n",
      "Treino Lote 4/13\n",
      "Treino Lote 5/13\n",
      "Treino Lote 6/13\n",
      "Treino Lote 7/13\n",
      "Treino Lote 8/13\n",
      "Treino Lote 9/13\n",
      "Treino Lote 10/13\n",
      "Treino Lote 11/13\n",
      "Treino Lote 12/13\n",
      "Treino Lote 13/13\n",
      "Validação: 25 exemplos, Acurácia: 28.00%\n"
     ]
    },
    {
     "data": {
      "image/png": "[encoded data removed]",
      "text/plain": [
       "<Figure size 432x288 with 2 Axes>"
      ]
     },
     "metadata": {
      "needs_background": "light"
     },
     "output_type": "display_data"
    },
    {
     "data": {
      "image/png": "[encoded data removed]",
      "text/plain": [
       "<Figure size 432x288 with 1 Axes>"
      ]
     },
     "metadata": {
      "needs_background": "light"
     },
     "output_type": "display_data"
    }
   ],
   "source": [
    "\n",
    "import os\n",
    "import cv2\n",
    "from PIL import Image\n",
    "import torch\n",
    "import torch.nn as nn\n",
    "import torch.optim as optim\n",
    "import numpy as np\n",
    "import matplotlib.pyplot as plt\n",
    "from sklearn.metrics import confusion_matrix, ConfusionMatrixDisplay\n",
    "from torchvision import transforms\n",
    "from torchvision.datasets import ImageFolder\n",
    "from torch.utils.data import DataLoader, random_split\n",
    "from torchvision.models import resnet18\n",
    "\n",
    "class HybridModel(nn.Module):\n",
    "    def __init__(self, num_classes=6, lstm_hidden=128):\n",
    "        super().__init__()\n",
    "        resnet = resnet18(pretrained=True)\n",
    "        self.backbone = nn.Sequential(*list(resnet.children())[:-2])\n",
    "        self.pool = nn.AdaptiveAvgPool2d((1, 1))\n",
    "        self.lstm = nn.LSTM(input_size=512, hidden_size=lstm_hidden, batch_first=True)\n",
    "        self.fc = nn.Linear(lstm_hidden + 64, num_classes)\n",
    "\n",
    "    def forward(self, frames, dct_feats):\n",
    "        b, t, c, h, w = frames.shape\n",
    "        frames = frames.view(-1, c, h, w)\n",
    "        x = self.backbone(frames)\n",
    "        x = self.pool(x).squeeze(-1).squeeze(-1)\n",
    "        x = x.view(b, t, -1)\n",
    "        _, (h_n, _) = self.lstm(x)\n",
    "        h_n = h_n[-1]\n",
    "        out = torch.cat((h_n, dct_feats), dim=1)\n",
    "        return self.fc(out)\n",
    "\n",
    "def extract_dct_features(batch_tensor):\n",
    "    dct_feats = []\n",
    "    for seq in batch_tensor:\n",
    "        dcts = []\n",
    "        for img in seq:\n",
    "            img = img.permute(1, 2, 0).cpu().numpy() * 255  # <- ajuste aqui\n",
    "            gray = cv2.cvtColor(img.astype(np.uint8), cv2.COLOR_RGB2GRAY)\n",
    "            dct = cv2.dct(np.float32(gray))[:8, :8].flatten()\n",
    "            dcts.append(dct)\n",
    "        avg_dct = np.mean(dcts, axis=0)\n",
    "        dct_feats.append(torch.tensor(avg_dct))\n",
    "    return torch.stack(dct_feats)\n",
    "\n",
    "\n",
    "data_dir = \"face_extraction\"\n",
    "transform = transforms.Compose([\n",
    "    transforms.Resize((224, 224)),\n",
    "    transforms.ToTensor(),\n",
    "])\n",
    "\n",
    "dataset = ImageFolder(data_dir, transform=transform)\n",
    "class_names = dataset.classes\n",
    "print(\"Classes detectadas:\", class_names)\n",
    "\n",
    "seq_len = 10\n",
    "data_sequences = []\n",
    "labels = []\n",
    "buffer = {}\n",
    "\n",
    "print(\"Agrupando frames em sequências...\")\n",
    "\n",
    "for path, label in dataset.samples:\n",
    "    key = os.path.dirname(path)\n",
    "    if key not in buffer:\n",
    "        buffer[key] = []\n",
    "    buffer[key].append((path, label))\n",
    "\n",
    "print(f\"Total de grupos: {len(buffer)}\")\n",
    "\n",
    "for k, frames in buffer.items():\n",
    "    print(f\"{k}: {len(frames)} frames\")\n",
    "    frames.sort()\n",
    "    for i in range(0, len(frames) - seq_len + 1, seq_len):\n",
    "        paths_labels = frames[i:i + seq_len]\n",
    "        paths, lbls = zip(*paths_labels)\n",
    "        imgs = [transform(Image.fromarray(cv2.cvtColor(cv2.imread(p), cv2.COLOR_BGR2RGB))) for p in paths]\n",
    "        data_sequences.append(torch.stack(imgs))\n",
    "        labels.append(lbls[0])\n",
    "\n",
    "print(f\"Total de sequências criadas: {len(data_sequences)}\")\n",
    "\n",
    "X = torch.stack(data_sequences)\n",
    "y = torch.tensor(labels)\n",
    "print(f\"Tamanho de X: {X.shape}, y: {y.shape}\")\n",
    "\n",
    "dataset = torch.utils.data.TensorDataset(X, y)\n",
    "train_size = int(0.8 * len(dataset))\n",
    "val_size = len(dataset) - train_size\n",
    "train_ds, val_ds = random_split(dataset, [train_size, val_size])\n",
    "train_loader = DataLoader(train_ds, batch_size=8, shuffle=True)\n",
    "val_loader = DataLoader(val_ds, batch_size=8)\n",
    "\n",
    "device = \"cuda\" if torch.cuda.is_available() else \"cpu\"\n",
    "model = HybridModel(num_classes=6).to(device)\n",
    "optimizer = optim.Adam(model.parameters(), lr=1e-4)\n",
    "criterion = nn.CrossEntropyLoss()\n",
    "\n",
    "train_loss_history = []\n",
    "val_acc_history = []\n",
    "y_true_all = []\n",
    "y_pred_all = []\n",
    "\n",
    "epochs = 50\n",
    "for epoch in range(epochs):\n",
    "    print(f\"----- Época {epoch+1} -----\")\n",
    "    model.train()\n",
    "    total_loss = 0\n",
    "    for batch_idx, (xb, yb) in enumerate(train_loader):\n",
    "        print(f\"Treino Lote {batch_idx+1}/{len(train_loader)}\")\n",
    "        xb, yb = xb.to(device), yb.to(device)\n",
    "        dct = extract_dct_features(xb).to(device)\n",
    "        output = model(xb, dct)\n",
    "        loss = criterion(output, yb)\n",
    "        optimizer.zero_grad()\n",
    "        loss.backward()\n",
    "        optimizer.step()\n",
    "        total_loss += loss.item()\n",
    "\n",
    "    model.eval()\n",
    "    correct, total = 0, 0\n",
    "    y_true, y_pred = [], []\n",
    "    with torch.no_grad():\n",
    "        for xb, yb in val_loader:\n",
    "            xb, yb = xb.to(device), yb.to(device)\n",
    "            dct = extract_dct_features(xb).to(device)\n",
    "            output = model(xb, dct)\n",
    "            preds = torch.argmax(output, dim=1)\n",
    "            correct += (preds == yb).sum().item()\n",
    "            total += yb.size(0)\n",
    "            y_true += yb.cpu().tolist()\n",
    "            y_pred += preds.cpu().tolist()\n",
    "\n",
    "    acc = 100 * correct / total\n",
    "    val_acc_history.append(acc)\n",
    "    train_loss_history.append(total_loss)\n",
    "    print(f\"Validação: {total} exemplos, Acurácia: {acc:.2f}%\")\n",
    "\n",
    "    y_true_all = y_true\n",
    "    y_pred_all = y_pred\n",
    "\n",
    "cm = confusion_matrix(y_true_all, y_pred_all)\n",
    "disp = ConfusionMatrixDisplay(confusion_matrix=cm, display_labels=class_names)\n",
    "disp.plot(cmap=\"Blues\")\n",
    "plt.title(\"Matriz de Confusão - Validação\")\n",
    "plt.xticks(rotation=45)\n",
    "plt.tight_layout()\n",
    "plt.savefig(\"confusao_validacao.png\")\n",
    "plt.show()\n",
    "\n",
    "plt.figure()\n",
    "plt.plot(train_loss_history, label=\"Loss Treino\")\n",
    "plt.plot(val_acc_history, label=\"Validação (%)\")\n",
    "plt.xlabel(\"Época\")\n",
    "plt.ylabel(\"Valor\")\n",
    "plt.title(\"Evolução do Aprendizado\")\n",
    "plt.legend()\n",
    "plt.grid(True)\n",
    "plt.tight_layout()\n",
    "plt.savefig(\"historico_aprendizado.png\")\n",
    "plt.show()\n"
   ]
  },
  {
   "cell_type": "code",
   "execution_count": 35,
   "metadata": {},
   "outputs": [
    {
     "name": "stdout",
     "output_type": "stream",
     "text": [
      "Classes detectadas: ['Face2Face', 'FaceShifter', 'FaceSwap', 'NeuralTextures', 'REAL']\n",
      "Época 1/15, Loss: 39.4387, Val Acc: 69.60%\n",
      "Época 2/15, Loss: 13.8534, Val Acc: 82.40%\n",
      "Época 3/15, Loss: 6.3883, Val Acc: 82.40%\n",
      "Época 4/15, Loss: 4.4064, Val Acc: 86.40%\n",
      "Época 5/15, Loss: 3.1800, Val Acc: 89.20%\n",
      "Época 6/15, Loss: 1.9484, Val Acc: 89.20%\n",
      "Época 7/15, Loss: 2.2215, Val Acc: 88.40%\n",
      "Época 8/15, Loss: 1.3419, Val Acc: 92.00%\n",
      "Época 9/15, Loss: 1.8737, Val Acc: 88.00%\n",
      "Época 10/15, Loss: 2.4970, Val Acc: 87.20%\n",
      "Época 11/15, Loss: 2.6598, Val Acc: 85.20%\n",
      "Época 12/15, Loss: 1.3271, Val Acc: 89.20%\n",
      "Época 13/15, Loss: 0.7849, Val Acc: 88.80%\n",
      "Época 14/15, Loss: 0.5707, Val Acc: 89.20%\n",
      "Época 15/15, Loss: 1.0233, Val Acc: 89.60%\n"
     ]
    },
    {
     "data": {
      "image/png": "[encoded data removed]",
      "text/plain": [
       "<Figure size 432x288 with 1 Axes>"
      ]
     },
     "metadata": {
      "needs_background": "light"
     },
     "output_type": "display_data"
    },
    {
     "name": "stdout",
     "output_type": "stream",
     "text": [
      "                precision    recall  f1-score   support\n",
      "\n",
      "     Face2Face       0.84      0.95      0.89        40\n",
      "   FaceShifter       0.95      0.97      0.96        60\n",
      "      FaceSwap       0.95      0.98      0.96        56\n",
      "NeuralTextures       0.90      0.84      0.87        51\n",
      "          REAL       0.79      0.70      0.74        43\n",
      "\n",
      "      accuracy                           0.90       250\n",
      "     macro avg       0.89      0.89      0.89       250\n",
      "  weighted avg       0.89      0.90      0.89       250\n",
      "\n"
     ]
    },
    {
     "data": {
      "image/png": "[encoded data removed]",
      "text/plain": [
       "<Figure size 432x288 with 2 Axes>"
      ]
     },
     "metadata": {
      "needs_background": "light"
     },
     "output_type": "display_data"
    },
    {
     "name": "stdout",
     "output_type": "stream",
     "text": [
      "Modelo salvo como modelo_resnet18_frames.pth\n"
     ]
    }
   ],
   "source": [
    "\n",
    "import os\n",
    "import torch\n",
    "import torch.nn as nn\n",
    "import torch.optim as optim\n",
    "import torchvision.transforms as transforms\n",
    "from torchvision.datasets import ImageFolder\n",
    "from torch.utils.data import DataLoader, random_split\n",
    "from torchvision.models import resnet18\n",
    "import matplotlib.pyplot as plt\n",
    "from sklearn.metrics import confusion_matrix, ConfusionMatrixDisplay, classification_report\n",
    "\n",
    "# Caminho para os frames\n",
    "data_dir = \"face_extraction\"\n",
    "\n",
    "# Transforms\n",
    "transform = transforms.Compose([\n",
    "    transforms.Resize((224, 224)),\n",
    "    transforms.RandomHorizontalFlip(),\n",
    "    transforms.ToTensor(),\n",
    "    transforms.Normalize([0.485, 0.456, 0.406],\n",
    "                         [0.229, 0.224, 0.225])\n",
    "])\n",
    "\n",
    "# Carregamento dos dados\n",
    "dataset = ImageFolder(root=data_dir, transform=transform)\n",
    "class_names = dataset.classes\n",
    "print(\"Classes detectadas:\", class_names)\n",
    "\n",
    "train_size = int(0.8 * len(dataset))\n",
    "val_size = len(dataset) - train_size\n",
    "train_dataset, val_dataset = random_split(dataset, [train_size, val_size])\n",
    "train_loader = DataLoader(train_dataset, batch_size=32, shuffle=True)\n",
    "val_loader = DataLoader(val_dataset, batch_size=32)\n",
    "\n",
    "# Modelo\n",
    "device = \"cuda\" if torch.cuda.is_available() else \"cpu\"\n",
    "model = resnet18(pretrained=True)\n",
    "model.fc = nn.Linear(model.fc.in_features, len(class_names))\n",
    "model = model.to(device)\n",
    "\n",
    "criterion = nn.CrossEntropyLoss()\n",
    "optimizer = optim.Adam(model.parameters(), lr=1e-4)\n",
    "\n",
    "# Treinamento\n",
    "epochs = 15\n",
    "train_losses = []\n",
    "val_accuracies = []\n",
    "\n",
    "for epoch in range(epochs):\n",
    "    model.train()\n",
    "    running_loss = 0\n",
    "    for xb, yb in train_loader:\n",
    "        xb, yb = xb.to(device), yb.to(device)\n",
    "        optimizer.zero_grad()\n",
    "        preds = model(xb)\n",
    "        loss = criterion(preds, yb)\n",
    "        loss.backward()\n",
    "        optimizer.step()\n",
    "        running_loss += loss.item()\n",
    "\n",
    "    model.eval()\n",
    "    correct = 0\n",
    "    total = 0\n",
    "    y_true = []\n",
    "    y_pred = []\n",
    "    with torch.no_grad():\n",
    "        for xb, yb in val_loader:\n",
    "            xb, yb = xb.to(device), yb.to(device)\n",
    "            preds = model(xb)\n",
    "            _, predicted = torch.max(preds, 1)\n",
    "            correct += (predicted == yb).sum().item()\n",
    "            total += yb.size(0)\n",
    "            y_true.extend(yb.cpu().numpy())\n",
    "            y_pred.extend(predicted.cpu().numpy())\n",
    "\n",
    "    acc = 100 * correct / total\n",
    "    print(f\"Época {epoch+1}/{epochs}, Loss: {running_loss:.4f}, Val Acc: {acc:.2f}%\")\n",
    "    train_losses.append(running_loss)\n",
    "    val_accuracies.append(acc)\n",
    "\n",
    "# Gráficos\n",
    "plt.figure()\n",
    "plt.plot(train_losses, label=\"Loss Treino\")\n",
    "plt.plot(val_accuracies, label=\"Validação (%)\")\n",
    "plt.xlabel(\"Época\")\n",
    "plt.ylabel(\"Valor\")\n",
    "plt.title(\"Evolução CNN (ResNet18)\")\n",
    "plt.legend()\n",
    "plt.grid(True)\n",
    "plt.tight_layout()\n",
    "plt.savefig(\"resnet18_evolucao.png\")\n",
    "plt.show()\n",
    "\n",
    "# Relatório e matriz de confusão\n",
    "print(classification_report(y_true, y_pred, target_names=class_names))\n",
    "cm = confusion_matrix(y_true, y_pred)\n",
    "disp = ConfusionMatrixDisplay(confusion_matrix=cm, display_labels=class_names)\n",
    "disp.plot(cmap=\"Blues\")\n",
    "plt.title(\"Matriz de Confusão - CNN\")\n",
    "plt.tight_layout()\n",
    "plt.savefig(\"resnet18_confusao.png\")\n",
    "plt.show()\n",
    "\n",
    "# Salvar modelo\n",
    "torch.save(model.state_dict(), \"modelo_resnet18_frames.pth\")\n",
    "print(\"Modelo salvo como modelo_resnet18_frames.pth\")\n"
   ]
  },
  {
   "cell_type": "code",
   "execution_count": 37,
   "metadata": {
    "scrolled": true
   },
   "outputs": [
    {
     "name": "stdout",
     "output_type": "stream",
     "text": [
      "Classes detectadas: ['Face2Face', 'FaceShifter', 'FaceSwap', 'NeuralTextures', 'REAL']\n",
      "Época 1/15, Loss: 41.0101, Val Acc: 67.20%\n",
      "Época 2/15, Loss: 14.5284, Val Acc: 81.60%\n",
      "Época 3/15, Loss: 6.7127, Val Acc: 84.00%\n",
      "Época 4/15, Loss: 4.4379, Val Acc: 85.60%\n",
      "Época 5/15, Loss: 3.0435, Val Acc: 90.80%\n",
      "Época 6/15, Loss: 2.1502, Val Acc: 85.20%\n",
      "Época 7/15, Loss: 2.2308, Val Acc: 86.80%\n",
      "Época 8/15, Loss: 2.0429, Val Acc: 87.60%\n",
      "Época 9/15, Loss: 1.6224, Val Acc: 85.20%\n",
      "Época 10/15, Loss: 1.1480, Val Acc: 86.80%\n",
      "Época 11/15, Loss: 1.1990, Val Acc: 90.00%\n",
      "Época 12/15, Loss: 2.9504, Val Acc: 87.60%\n",
      "Época 13/15, Loss: 2.7370, Val Acc: 83.20%\n",
      "Época 14/15, Loss: 2.1586, Val Acc: 90.00%\n",
      "Época 15/15, Loss: 1.2165, Val Acc: 86.00%\n"
     ]
    },
    {
     "data": {
      "image/png": "[encoded data removed]",
      "text/plain": [
       "<Figure size 432x288 with 1 Axes>"
      ]
     },
     "metadata": {
      "needs_background": "light"
     },
     "output_type": "display_data"
    },
    {
     "name": "stdout",
     "output_type": "stream",
     "text": [
      "Relatório detalhado por classe:\n",
      "                precision    recall  f1-score   support\n",
      "\n",
      "     Face2Face       0.89      0.94      0.91        51\n",
      "   FaceShifter       0.96      0.93      0.95        57\n",
      "      FaceSwap       0.97      0.88      0.92        41\n",
      "NeuralTextures       0.69      0.88      0.77        49\n",
      "          REAL       0.83      0.67      0.74        52\n",
      "\n",
      "      accuracy                           0.86       250\n",
      "     macro avg       0.87      0.86      0.86       250\n",
      "  weighted avg       0.87      0.86      0.86       250\n",
      "\n",
      "Classe REAL - Precision: 0.83, Recall: 0.67, F1-score: 0.74, Support: 52\n"
     ]
    },
    {
     "data": {
      "image/png": "[encoded data removed]",
      "text/plain": [
       "<Figure size 576x432 with 2 Axes>"
      ]
     },
     "metadata": {
      "needs_background": "light"
     },
     "output_type": "display_data"
    },
    {
     "name": "stdout",
     "output_type": "stream",
     "text": [
      "Modelo salvo como modelo_resnet18_frames.pth\n"
     ]
    }
   ],
   "source": [
    "##"
   ]
  },
  {
   "cell_type": "code",
   "execution_count": 38,
   "metadata": {},
   "outputs": [
    {
     "name": "stdout",
     "output_type": "stream",
     "text": [
      "Classes detectadas: ['Face2Face', 'FaceShifter', 'FaceSwap', 'NeuralTextures', 'REAL']\n"
     ]
    },
    {
     "name": "stderr",
     "output_type": "stream",
     "text": [
      "Downloading: \"https://download.pytorch.org/models/resnet50-0676ba61.pth\" to /root/.cache/torch/hub/checkpoints/resnet50-0676ba61.pth\n",
      "100.0%\n"
     ]
    },
    {
     "name": "stdout",
     "output_type": "stream",
     "text": [
      "Época 1/15, Loss: 37.7343, Val Acc: 65.20%\n",
      "Época 2/15, Loss: 13.5778, Val Acc: 81.60%\n",
      "Época 3/15, Loss: 8.5492, Val Acc: 84.00%\n",
      "Época 4/15, Loss: 6.7892, Val Acc: 88.40%\n",
      "Época 5/15, Loss: 5.2752, Val Acc: 91.60%\n",
      "Época 6/15, Loss: 3.5943, Val Acc: 88.40%\n",
      "Época 7/15, Loss: 4.3688, Val Acc: 88.40%\n",
      "Época 8/15, Loss: 4.8370, Val Acc: 89.20%\n",
      "Época 9/15, Loss: 2.6164, Val Acc: 89.20%\n",
      "Época 10/15, Loss: 3.8784, Val Acc: 87.20%\n",
      "Época 11/15, Loss: 3.2583, Val Acc: 88.00%\n",
      "Época 12/15, Loss: 3.7994, Val Acc: 78.40%\n",
      "Época 13/15, Loss: 2.6589, Val Acc: 82.00%\n",
      "Época 14/15, Loss: 3.2003, Val Acc: 92.40%\n",
      "Época 15/15, Loss: 2.2890, Val Acc: 90.40%\n"
     ]
    },
    {
     "data": {
      "image/png": "[encoded data removed]",
      "text/plain": [
       "<Figure size 432x288 with 1 Axes>"
      ]
     },
     "metadata": {
      "needs_background": "light"
     },
     "output_type": "display_data"
    },
    {
     "name": "stdout",
     "output_type": "stream",
     "text": [
      "Relatório detalhado por classe:\n",
      "                precision    recall  f1-score   support\n",
      "\n",
      "     Face2Face       1.00      0.89      0.94        56\n",
      "   FaceShifter       0.93      1.00      0.97        42\n",
      "      FaceSwap       0.88      1.00      0.94        53\n",
      "NeuralTextures       0.82      0.85      0.83        47\n",
      "          REAL       0.89      0.79      0.84        52\n",
      "\n",
      "      accuracy                           0.90       250\n",
      "     macro avg       0.90      0.91      0.90       250\n",
      "  weighted avg       0.91      0.90      0.90       250\n",
      "\n",
      "Classe REAL - Precision: 0.89, Recall: 0.79, F1-score: 0.84, Support: 52\n"
     ]
    },
    {
     "data": {
      "image/png": "[encoded data removed]",
      "text/plain": [
       "<Figure size 576x432 with 2 Axes>"
      ]
     },
     "metadata": {
      "needs_background": "light"
     },
     "output_type": "display_data"
    },
    {
     "name": "stdout",
     "output_type": "stream",
     "text": [
      "Modelo salvo como modelo_resnet50_frames.pth\n"
     ]
    }
   ],
   "source": [
    "## resnet50 \n",
    "\n",
    "\n",
    "import os\n",
    "import torch\n",
    "import torch.nn as nn\n",
    "import torch.optim as optim\n",
    "import torchvision.transforms as transforms\n",
    "from torchvision.datasets import ImageFolder\n",
    "from torch.utils.data import DataLoader, random_split\n",
    "from torchvision.models import resnet50\n",
    "import matplotlib.pyplot as plt\n",
    "from sklearn.metrics import confusion_matrix, ConfusionMatrixDisplay, classification_report, precision_recall_fscore_support\n",
    "\n",
    "# Caminho para os frames\n",
    "data_dir = \"face_extraction\"\n",
    "\n",
    "# Transforms\n",
    "transform = transforms.Compose([\n",
    "    transforms.Resize((224, 224)),\n",
    "    transforms.RandomHorizontalFlip(),\n",
    "    transforms.ToTensor(),\n",
    "    transforms.Normalize([0.485, 0.456, 0.406],\n",
    "                         [0.229, 0.224, 0.225])\n",
    "])\n",
    "\n",
    "# Carregamento dos dados\n",
    "dataset = ImageFolder(root=data_dir, transform=transform)\n",
    "class_names = dataset.classes\n",
    "print(\"Classes detectadas:\", class_names)\n",
    "\n",
    "train_size = int(0.8 * len(dataset))\n",
    "val_size = len(dataset) - train_size\n",
    "train_dataset, val_dataset = random_split(dataset, [train_size, val_size])\n",
    "train_loader = DataLoader(train_dataset, batch_size=32, shuffle=True)\n",
    "val_loader = DataLoader(val_dataset, batch_size=32)\n",
    "\n",
    "# Modelo\n",
    "device = \"cuda\" if torch.cuda.is_available() else \"cpu\"\n",
    "model = resnet50(pretrained=True)\n",
    "model.fc = nn.Linear(model.fc.in_features, len(class_names))\n",
    "model = model.to(device)\n",
    "\n",
    "criterion = nn.CrossEntropyLoss()\n",
    "optimizer = optim.Adam(model.parameters(), lr=1e-4)\n",
    "\n",
    "# Treinamento\n",
    "epochs = 15\n",
    "train_losses = []\n",
    "val_accuracies = []\n",
    "y_true_all = []\n",
    "y_pred_all = []\n",
    "\n",
    "for epoch in range(epochs):\n",
    "    model.train()\n",
    "    running_loss = 0\n",
    "    for xb, yb in train_loader:\n",
    "        xb, yb = xb.to(device), yb.to(device)\n",
    "        optimizer.zero_grad()\n",
    "        preds = model(xb)\n",
    "        loss = criterion(preds, yb)\n",
    "        loss.backward()\n",
    "        optimizer.step()\n",
    "        running_loss += loss.item()\n",
    "\n",
    "    model.eval()\n",
    "    correct = 0\n",
    "    total = 0\n",
    "    y_true = []\n",
    "    y_pred = []\n",
    "    with torch.no_grad():\n",
    "        for xb, yb in val_loader:\n",
    "            xb, yb = xb.to(device), yb.to(device)\n",
    "            preds = model(xb)\n",
    "            _, predicted = torch.max(preds, 1)\n",
    "            correct += (predicted == yb).sum().item()\n",
    "            total += yb.size(0)\n",
    "            y_true.extend(yb.cpu().numpy())\n",
    "            y_pred.extend(predicted.cpu().numpy())\n",
    "\n",
    "    acc = 100 * correct / total\n",
    "    print(f\"Época {epoch+1}/{epochs}, Loss: {running_loss:.4f}, Val Acc: {acc:.2f}%\")\n",
    "    train_losses.append(running_loss)\n",
    "    val_accuracies.append(acc)\n",
    "    y_true_all = y_true\n",
    "    y_pred_all = y_pred\n",
    "\n",
    "# Gráfico de perda e acurácia\n",
    "plt.figure()\n",
    "plt.plot(train_losses, label=\"Loss Treino\")\n",
    "plt.plot(val_accuracies, label=\"Validação (%)\")\n",
    "plt.xlabel(\"Época\")\n",
    "plt.ylabel(\"Valor\")\n",
    "plt.title(\"CNN ResNet50 - Evolução\")\n",
    "plt.legend()\n",
    "plt.grid(True)\n",
    "plt.tight_layout()\n",
    "plt.savefig(\"resnet50_evolucao.png\")\n",
    "plt.show()\n",
    "\n",
    "# Relatório por classe\n",
    "print(\"Relatório detalhado por classe:\")\n",
    "print(classification_report(y_true_all, y_pred_all, target_names=class_names))\n",
    "\n",
    "# Foco na classe REAL\n",
    "real_index = class_names.index(\"REAL\")\n",
    "prec, recall, f1, support = precision_recall_fscore_support(\n",
    "    y_true_all, y_pred_all, labels=[real_index], average=None\n",
    ")\n",
    "print(f\"Classe REAL - Precision: {prec[0]:.2f}, Recall: {recall[0]:.2f}, F1-score: {f1[0]:.2f}, Support: {support[0]}\")\n",
    "\n",
    "# Matriz de confusão com destaque para REAL\n",
    "cm = confusion_matrix(y_true_all, y_pred_all)\n",
    "fig, ax = plt.subplots(figsize=(8, 6))\n",
    "disp = ConfusionMatrixDisplay(confusion_matrix=cm, display_labels=class_names)\n",
    "disp.plot(cmap=\"Blues\", ax=ax, values_format='d')\n",
    "plt.title(\"Matriz de Confusão (destaque: classe REAL)\")\n",
    "plt.tight_layout()\n",
    "plt.savefig(\"resnet50_confusao_REAL.png\")\n",
    "plt.show()\n",
    "\n",
    "# Salvar modelo\n",
    "torch.save(model.state_dict(), \"modelo_resnet50_frames.pth\")\n",
    "print(\"Modelo salvo como modelo_resnet50_frames.pth\")\n"
   ]
  },
  {
   "cell_type": "code",
   "execution_count": 20,
   "metadata": {
    "scrolled": true
   },
   "outputs": [
    {
     "name": "stdout",
     "output_type": "stream",
     "text": [
      "Classes detectadas: ['DeepFakeDetection', 'FaceShifter', 'FaceSwap', 'NeuraTextures', 'deepfakes', 'face2face', 'original']\n"
     ]
    },
    {
     "name": "stderr",
     "output_type": "stream",
     "text": [
      "                                                                                     \r"
     ]
    },
    {
     "name": "stdout",
     "output_type": "stream",
     "text": [
      "Época 1/20 | Loss Treino: 0.4106 | Val Acc: 88.31%\n"
     ]
    },
    {
     "name": "stderr",
     "output_type": "stream",
     "text": [
      "                                                                                     \r"
     ]
    },
    {
     "name": "stdout",
     "output_type": "stream",
     "text": [
      "Época 2/20 | Loss Treino: 0.2066 | Val Acc: 89.63%\n"
     ]
    },
    {
     "name": "stderr",
     "output_type": "stream",
     "text": [
      "                                                                                     \r"
     ]
    },
    {
     "name": "stdout",
     "output_type": "stream",
     "text": [
      "Época 3/20 | Loss Treino: 0.1608 | Val Acc: 91.43%\n"
     ]
    },
    {
     "name": "stderr",
     "output_type": "stream",
     "text": [
      "                                                                                     \r"
     ]
    },
    {
     "name": "stdout",
     "output_type": "stream",
     "text": [
      "Época 4/20 | Loss Treino: 0.1312 | Val Acc: 88.25%\n"
     ]
    },
    {
     "name": "stderr",
     "output_type": "stream",
     "text": [
      "                                                                                     \r"
     ]
    },
    {
     "name": "stdout",
     "output_type": "stream",
     "text": [
      "Época 5/20 | Loss Treino: 0.1129 | Val Acc: 91.97%\n"
     ]
    },
    {
     "name": "stderr",
     "output_type": "stream",
     "text": [
      "                                                                                     \r"
     ]
    },
    {
     "name": "stdout",
     "output_type": "stream",
     "text": [
      "Época 6/20 | Loss Treino: 0.1042 | Val Acc: 90.37%\n"
     ]
    },
    {
     "name": "stderr",
     "output_type": "stream",
     "text": [
      "                                                                                     \r"
     ]
    },
    {
     "name": "stdout",
     "output_type": "stream",
     "text": [
      "Época 7/20 | Loss Treino: 0.0989 | Val Acc: 92.80%\n"
     ]
    },
    {
     "name": "stderr",
     "output_type": "stream",
     "text": [
      "                                                                                     \r"
     ]
    },
    {
     "name": "stdout",
     "output_type": "stream",
     "text": [
      "Época 8/20 | Loss Treino: 0.0832 | Val Acc: 90.60%\n"
     ]
    },
    {
     "name": "stderr",
     "output_type": "stream",
     "text": [
      "                                                                                     \r"
     ]
    },
    {
     "name": "stdout",
     "output_type": "stream",
     "text": [
      "Época 9/20 | Loss Treino: 0.0870 | Val Acc: 91.37%\n"
     ]
    },
    {
     "name": "stderr",
     "output_type": "stream",
     "text": [
      "                                                                                      \r"
     ]
    },
    {
     "name": "stdout",
     "output_type": "stream",
     "text": [
      "Época 10/20 | Loss Treino: 0.0793 | Val Acc: 90.74%\n"
     ]
    },
    {
     "name": "stderr",
     "output_type": "stream",
     "text": [
      "                                                                                      \r"
     ]
    },
    {
     "name": "stdout",
     "output_type": "stream",
     "text": [
      "Época 11/20 | Loss Treino: 0.0739 | Val Acc: 92.20%\n"
     ]
    },
    {
     "name": "stderr",
     "output_type": "stream",
     "text": [
      "                                                                                      \r"
     ]
    },
    {
     "name": "stdout",
     "output_type": "stream",
     "text": [
      "Época 12/20 | Loss Treino: 0.0712 | Val Acc: 91.94%\n"
     ]
    },
    {
     "name": "stderr",
     "output_type": "stream",
     "text": [
      "                                                                                      \r"
     ]
    },
    {
     "name": "stdout",
     "output_type": "stream",
     "text": [
      "Época 13/20 | Loss Treino: 0.0646 | Val Acc: 92.23%\n"
     ]
    },
    {
     "name": "stderr",
     "output_type": "stream",
     "text": [
      "                                                                                      \r"
     ]
    },
    {
     "name": "stdout",
     "output_type": "stream",
     "text": [
      "Época 14/20 | Loss Treino: 0.0550 | Val Acc: 92.08%\n"
     ]
    },
    {
     "name": "stderr",
     "output_type": "stream",
     "text": [
      "                                                                                      \r"
     ]
    },
    {
     "name": "stdout",
     "output_type": "stream",
     "text": [
      "Época 15/20 | Loss Treino: 0.0593 | Val Acc: 91.48%\n"
     ]
    },
    {
     "name": "stderr",
     "output_type": "stream",
     "text": [
      "                                                                                      \r"
     ]
    },
    {
     "name": "stdout",
     "output_type": "stream",
     "text": [
      "Época 16/20 | Loss Treino: 0.0515 | Val Acc: 91.48%\n"
     ]
    },
    {
     "name": "stderr",
     "output_type": "stream",
     "text": [
      "                                                                                      \r"
     ]
    },
    {
     "name": "stdout",
     "output_type": "stream",
     "text": [
      "Época 17/20 | Loss Treino: 0.0512 | Val Acc: 90.11%\n"
     ]
    },
    {
     "name": "stderr",
     "output_type": "stream",
     "text": [
      "                                                                                      \r"
     ]
    },
    {
     "name": "stdout",
     "output_type": "stream",
     "text": [
      "Época 18/20 | Loss Treino: 0.0452 | Val Acc: 91.54%\n"
     ]
    },
    {
     "name": "stderr",
     "output_type": "stream",
     "text": [
      "                                                                                      \r"
     ]
    },
    {
     "name": "stdout",
     "output_type": "stream",
     "text": [
      "Época 19/20 | Loss Treino: 0.0413 | Val Acc: 91.25%\n"
     ]
    },
    {
     "name": "stderr",
     "output_type": "stream",
     "text": [
      "                                                                                      \r"
     ]
    },
    {
     "name": "stdout",
     "output_type": "stream",
     "text": [
      "Época 20/20 | Loss Treino: 0.0432 | Val Acc: 92.23%\n"
     ]
    },
    {
     "name": "stderr",
     "output_type": "stream",
     "text": [
      "                                                              \r"
     ]
    },
    {
     "name": "stdout",
     "output_type": "stream",
     "text": [
      "\n",
      "==== Métricas no conjunto TEST ====\n",
      "                   precision    recall  f1-score   support\n",
      "\n",
      "DeepFakeDetection       1.00      1.00      1.00      1000\n",
      "      FaceShifter       0.97      0.94      0.96      1000\n",
      "         FaceSwap       0.94      0.96      0.95      1000\n",
      "    NeuraTextures       0.85      0.88      0.87      1000\n",
      "        deepfakes       0.95      0.94      0.94       999\n",
      "        face2face       0.93      0.96      0.94      1000\n",
      "         original       0.87      0.81      0.84      1000\n",
      "\n",
      "         accuracy                           0.93      6999\n",
      "        macro avg       0.93      0.93      0.93      6999\n",
      "     weighted avg       0.93      0.93      0.93      6999\n",
      "\n",
      "Classe ORIGINAL - Precision: 0.87, Recall: 0.81, F1-score: 0.84, Support: 1000\n"
     ]
    },
    {
     "data": {
      "image/png": "[encoded data removed]",
      "text/plain": [
       "<Figure size 576x432 with 2 Axes>"
      ]
     },
     "metadata": {
      "needs_background": "light"
     },
     "output_type": "display_data"
    },
    {
     "data": {
      "image/png": "[encoded data removed]",
      "text/plain": [
       "<Figure size 432x288 with 1 Axes>"
      ]
     },
     "metadata": {
      "needs_background": "light"
     },
     "output_type": "display_data"
    },
    {
     "name": "stdout",
     "output_type": "stream",
     "text": [
      "Modelo salvo como modelo_resnet50_frames.pth\n"
     ]
    }
   ],
   "source": [
    "import os\n",
    "import torch\n",
    "import torch.nn as nn\n",
    "import torch.optim as optim\n",
    "import torchvision.transforms as transforms\n",
    "from torchvision.datasets import ImageFolder\n",
    "from torch.utils.data import DataLoader\n",
    "from torchvision.models import resnet50\n",
    "import matplotlib.pyplot as plt\n",
    "from sklearn.metrics import confusion_matrix, ConfusionMatrixDisplay, classification_report, precision_recall_fscore_support\n",
    "from tqdm import tqdm  # para barra de progresso\n",
    "\n",
    "# ---------------------------------------------------\n",
    "# 1) CONFIGURAÇÕES\n",
    "# ---------------------------------------------------\n",
    "\n",
    "# Caminho base onde estão as pastas train/, val/ e test/,\n",
    "# contendo cada uma subpastas com os tipos de deepfake ou 'original'.\n",
    "base_dir = \"face_extraction/faceforensis_face_extract\"\n",
    "\n",
    "train_dir = os.path.join(base_dir, \"train\")\n",
    "val_dir   = os.path.join(base_dir, \"val\")\n",
    "test_dir  = os.path.join(base_dir, \"test\")\n",
    "\n",
    "# -------- Transforms padrão para ResNet50 --------\n",
    "transform = transforms.Compose([\n",
    "    transforms.Resize((224, 224)),\n",
    "    transforms.RandomHorizontalFlip(),\n",
    "    transforms.ToTensor(),\n",
    "    transforms.Normalize([0.485, 0.456, 0.406],\n",
    "                         [0.229, 0.224, 0.225])\n",
    "])\n",
    "\n",
    "# ---------------------------------------------------\n",
    "# 2) DATALOADERS (com num_workers=0 para não usar multiprocessing)\n",
    "# ---------------------------------------------------\n",
    "\n",
    "train_dataset = ImageFolder(root=train_dir, transform=transform)\n",
    "val_dataset   = ImageFolder(root=val_dir,   transform=transform)\n",
    "test_dataset  = ImageFolder(root=test_dir,  transform=transform)\n",
    "\n",
    "class_names = train_dataset.classes\n",
    "print(\"Classes detectadas:\", class_names)\n",
    "\n",
    "train_loader = DataLoader(\n",
    "    train_dataset,\n",
    "    batch_size=32,\n",
    "    shuffle=True,\n",
    "    num_workers=0,\n",
    "    pin_memory=True\n",
    ")\n",
    "val_loader = DataLoader(\n",
    "    val_dataset,\n",
    "    batch_size=32,\n",
    "    shuffle=False,\n",
    "    num_workers=0,\n",
    "    pin_memory=True\n",
    ")\n",
    "test_loader = DataLoader(\n",
    "    test_dataset,\n",
    "    batch_size=32,\n",
    "    shuffle=False,\n",
    "    num_workers=0,\n",
    "    pin_memory=True\n",
    ")\n",
    "\n",
    "# ---------------------------------------------------\n",
    "# 3) MODELO\n",
    "# ---------------------------------------------------\n",
    "\n",
    "device = \"cuda\" if torch.cuda.is_available() else \"cpu\"\n",
    "model = resnet50(pretrained=True)\n",
    "model.fc = nn.Linear(model.fc.in_features, len(class_names))\n",
    "model = model.to(device)\n",
    "\n",
    "criterion = nn.CrossEntropyLoss()\n",
    "optimizer = optim.Adam(model.parameters(), lr=1e-4)\n",
    "\n",
    "# ---------------------------------------------------\n",
    "# 4) TREINAMENTO E VALIDAÇÃO (com progresso)\n",
    "# ---------------------------------------------------\n",
    "\n",
    "epochs = 20\n",
    "train_losses = []\n",
    "val_accuracies = []\n",
    "\n",
    "for epoch in range(epochs):\n",
    "    model.train()\n",
    "    running_loss = 0.0\n",
    "    \n",
    "    # Barra de progresso para o loop de treino\n",
    "    train_bar = tqdm(train_loader, desc=f\"Época {epoch+1}/{epochs} - Treino\", leave=False)\n",
    "    for xb, yb in train_bar:\n",
    "        xb, yb = xb.to(device), yb.to(device)\n",
    "\n",
    "        optimizer.zero_grad()\n",
    "        preds = model(xb)\n",
    "        loss = criterion(preds, yb)\n",
    "        loss.backward()\n",
    "        optimizer.step()\n",
    "\n",
    "        running_loss += loss.item()\n",
    "        # Atualiza descrição da barra com perda parcial\n",
    "        train_bar.set_postfix({\"loss\": f\"{loss.item():.4f}\"})\n",
    "\n",
    "    avg_train_loss = running_loss / len(train_loader)\n",
    "    train_losses.append(avg_train_loss)\n",
    "\n",
    "    # Avaliação no conjunto de validação\n",
    "    model.eval()\n",
    "    correct = 0\n",
    "    total = 0\n",
    "\n",
    "    # Barra de progresso para validação\n",
    "    val_bar = tqdm(val_loader, desc=f\"Época {epoch+1}/{epochs} - Validação\", leave=False)\n",
    "    with torch.no_grad():\n",
    "        for xb, yb in val_bar:\n",
    "            xb, yb = xb.to(device), yb.to(device)\n",
    "            preds = model(xb)\n",
    "            _, predicted = torch.max(preds, 1)\n",
    "            correct += (predicted == yb).sum().item()\n",
    "            total += yb.size(0)\n",
    "            # Atualiza descrição da barra com acurácia parcial\n",
    "            acc_partial = 100.0 * (correct / total)\n",
    "            val_bar.set_postfix({\"acc\": f\"{acc_partial:.2f}%\"})\n",
    "\n",
    "    val_acc = 100.0 * correct / total\n",
    "    val_accuracies.append(val_acc)\n",
    "\n",
    "    print(f\"Época {epoch+1}/{epochs} | Loss Treino: {avg_train_loss:.4f} | Val Acc: {val_acc:.2f}%\")\n",
    "\n",
    "# ---------------------------------------------------\n",
    "# 5) AVALIAÇÃO NO TESTE FINAL (com progresso)\n",
    "# ---------------------------------------------------\n",
    "\n",
    "model.eval()\n",
    "y_true_test = []\n",
    "y_pred_test = []\n",
    "\n",
    "test_bar = tqdm(test_loader, desc=\"Teste Final\", leave=False)\n",
    "with torch.no_grad():\n",
    "    for xb, yb in test_bar:\n",
    "        xb, yb = xb.to(device), yb.to(device)\n",
    "        preds = model(xb)\n",
    "        _, predicted = torch.max(preds, 1)\n",
    "\n",
    "        y_true_test.extend(yb.cpu().tolist())\n",
    "        y_pred_test.extend(predicted.cpu().tolist())\n",
    "\n",
    "        # Atualiza a barra sem métricas específicas, apenas mostra progresso\n",
    "        test_bar.set_postfix({})\n",
    "\n",
    "print(\"\\n==== Métricas no conjunto TEST ====\")\n",
    "print(classification_report(y_true_test, y_pred_test, target_names=class_names))\n",
    "\n",
    "# Foco na classe “original” ou “REAL” (ajuste o nome, se necessário)\n",
    "if \"original\" in class_names:\n",
    "    real_index = class_names.index(\"original\")\n",
    "    prec, recall, f1, support = precision_recall_fscore_support(\n",
    "        y_true_test, y_pred_test, labels=[real_index], average=None\n",
    "    )\n",
    "    print(f\"Classe ORIGINAL - Precision: {prec[0]:.2f}, Recall: {recall[0]:.2f}, \"\n",
    "          f\"F1-score: {f1[0]:.2f}, Support: {support[0]}\")\n",
    "\n",
    "# Matriz de confusão\n",
    "cm = confusion_matrix(y_true_test, y_pred_test)\n",
    "fig, ax = plt.subplots(figsize=(8, 6))\n",
    "disp = ConfusionMatrixDisplay(confusion_matrix=cm, display_labels=class_names)\n",
    "disp.plot(cmap=\"Blues\", ax=ax, values_format='d')\n",
    "plt.title(\"Matriz de Confusão - TESTE\")\n",
    "plt.tight_layout()\n",
    "plt.savefig(\"resnet50_confusao_teste.png\")\n",
    "plt.show()\n",
    "\n",
    "# ---------------------------------------------------\n",
    "# 6) GRÁFICO DE PERDA E ACURÁCIA\n",
    "# ---------------------------------------------------\n",
    "\n",
    "plt.figure()\n",
    "plt.plot(train_losses, label=\"Loss Treino\")\n",
    "plt.plot(val_accuracies, label=\"Validação (%)\")\n",
    "plt.xlabel(\"Época\")\n",
    "plt.ylabel(\"Valor\")\n",
    "plt.title(\"ResNet50 - Evolução Loss (Treino) e Acurácia (Val)\")\n",
    "plt.legend()\n",
    "plt.grid(True)\n",
    "plt.tight_layout()\n",
    "plt.savefig(\"resnet50_evolucao.png\")\n",
    "plt.show()\n",
    "\n",
    "# ---------------------------------------------------\n",
    "# 7) SALVAR MODELO\n",
    "# ---------------------------------------------------\n",
    "\n",
    "torch.save(model.state_dict(), \"modelo_resnet50_frames.pth\")\n",
    "print(\"Modelo salvo como modelo_resnet50_frames.pth\")\n"
   ]
  },
  {
   "cell_type": "code",
   "execution_count": null,
   "metadata": {},
   "outputs": [],
   "source": []
  }
 ],
 "metadata": {
  "kernelspec": {
   "display_name": "Python 3",
   "language": "python",
   "name": "python3"
  },
  "language_info": {
   "codemirror_mode": {
    "name": "ipython",
    "version": 3
   },
   "file_extension": ".py",
   "mimetype": "text/x-python",
   "name": "python",
   "nbconvert_exporter": "python",
   "pygments_lexer": "ipython3",
   "version": "3.6.9"
  }
 },
 "nbformat": 4,
 "nbformat_minor": 2
}
